{
 "cells": [
  {
   "cell_type": "code",
   "execution_count": 1,
   "id": "2846738c-ad7b-4662-9912-8b521e5f0e38",
   "metadata": {},
   "outputs": [],
   "source": [
    "import os"
   ]
  },
  {
   "cell_type": "code",
   "execution_count": 3,
   "id": "fa84a63f-d6b0-487a-8743-6986c052b500",
   "metadata": {},
   "outputs": [
    {
     "data": {
      "text/plain": [
       "'C:\\\\Users\\\\Santh'"
      ]
     },
     "execution_count": 3,
     "metadata": {},
     "output_type": "execute_result"
    }
   ],
   "source": [
    "os.getcwd()"
   ]
  },
  {
   "cell_type": "code",
   "execution_count": 5,
   "id": "82f03a98-944f-49c5-b4c0-87e74a1f6e28",
   "metadata": {},
   "outputs": [],
   "source": [
    "os.chdir(\"OneDrive\")"
   ]
  },
  {
   "cell_type": "code",
   "execution_count": 7,
   "id": "81a2ef74-a6bb-4c0d-ae16-71e5c7aae2af",
   "metadata": {},
   "outputs": [
    {
     "data": {
      "text/plain": [
       "'C:\\\\Users\\\\Santh\\\\OneDrive'"
      ]
     },
     "execution_count": 7,
     "metadata": {},
     "output_type": "execute_result"
    }
   ],
   "source": [
    "os.getcwd()"
   ]
  },
  {
   "cell_type": "code",
   "execution_count": 11,
   "id": "d61892d7-8d85-40f1-824b-39cc5e68651c",
   "metadata": {},
   "outputs": [],
   "source": [
    "os.chdir(\"Documents\")"
   ]
  },
  {
   "cell_type": "code",
   "execution_count": 13,
   "id": "b134c593-b9ad-43ac-928a-4acfce00dd39",
   "metadata": {},
   "outputs": [
    {
     "data": {
      "text/plain": [
       "'C:\\\\Users\\\\Santh\\\\OneDrive\\\\Documents'"
      ]
     },
     "execution_count": 13,
     "metadata": {},
     "output_type": "execute_result"
    }
   ],
   "source": [
    "os.getcwd()"
   ]
  },
  {
   "cell_type": "code",
   "execution_count": 15,
   "id": "9c48cc17-b400-401e-9bef-8a28351b1bb4",
   "metadata": {},
   "outputs": [],
   "source": [
    "os.chdir(\"../\")"
   ]
  },
  {
   "cell_type": "code",
   "execution_count": 17,
   "id": "b977e282-c9ee-40e2-92b7-3cdae7f03b53",
   "metadata": {},
   "outputs": [
    {
     "data": {
      "text/plain": [
       "'C:\\\\Users\\\\Santh\\\\OneDrive'"
      ]
     },
     "execution_count": 17,
     "metadata": {},
     "output_type": "execute_result"
    }
   ],
   "source": [
    "os.getcwd()"
   ]
  },
  {
   "cell_type": "code",
   "execution_count": 21,
   "id": "6d9c2aec-4238-406f-a0cf-e1d3507d3a6d",
   "metadata": {},
   "outputs": [
    {
     "name": "stdout",
     "output_type": "stream",
     "text": [
      " Volume in drive C is OS\n",
      " Volume Serial Number is F88D-7FF6\n",
      "\n",
      " Directory of C:\\Users\\Santh\\OneDrive\n",
      "\n",
      "21-02-2025  14:56    <DIR>          .\n",
      "21-02-2025  16:11    <DIR>          ..\n",
      "14-10-2023  13:52    <DIR>          AppData\n",
      "20-06-2024  17:23    <DIR>          Attachments\n",
      "14-10-2023  15:05    <DIR>          Creative Cloud Files\n",
      "15-02-2025  20:40    <DIR>          Documents\n",
      "21-02-2025  14:56             1,140 Personal Vault.lnk\n",
      "15-02-2025  20:40    <DIR>          Pictures\n",
      "               1 File(s)          1,140 bytes\n",
      "               7 Dir(s)  324,270,350,336 bytes free\n"
     ]
    }
   ],
   "source": [
    "ls"
   ]
  },
  {
   "cell_type": "code",
   "execution_count": 23,
   "id": "2827e4e8-262f-464a-ac28-3166e2587db8",
   "metadata": {},
   "outputs": [],
   "source": [
    "os.mkdir(\"DS\")"
   ]
  },
  {
   "cell_type": "code",
   "execution_count": 25,
   "id": "4c098a60-1f8f-4c08-bd88-78c875458a7f",
   "metadata": {},
   "outputs": [],
   "source": [
    "os.makedirs(\"DS/DA/Python\")"
   ]
  },
  {
   "cell_type": "code",
   "execution_count": 27,
   "id": "135035fd-4d50-4dc1-84a3-90ae0928bbbe",
   "metadata": {},
   "outputs": [
    {
     "data": {
      "text/plain": [
       "'DS/DA'"
      ]
     },
     "execution_count": 27,
     "metadata": {},
     "output_type": "execute_result"
    }
   ],
   "source": [
    "a = \"DS\"\n",
    "b = \"DA\"\n",
    "\n",
    "a +'/'+ b"
   ]
  },
  {
   "cell_type": "code",
   "execution_count": 31,
   "id": "48bc8aa9-1a8a-414c-8d5a-098a7039debf",
   "metadata": {},
   "outputs": [
    {
     "data": {
      "text/plain": [
       "'DS\\\\DA'"
      ]
     },
     "execution_count": 31,
     "metadata": {},
     "output_type": "execute_result"
    }
   ],
   "source": [
    "os.path.join(\"DS\",\"DA\")"
   ]
  },
  {
   "cell_type": "code",
   "execution_count": null,
   "id": "f6b041b2-70e0-4436-96b8-c332f42f0e5b",
   "metadata": {},
   "outputs": [],
   "source": []
  }
 ],
 "metadata": {
  "kernelspec": {
   "display_name": "Python 3 (ipykernel)",
   "language": "python",
   "name": "python3"
  },
  "language_info": {
   "codemirror_mode": {
    "name": "ipython",
    "version": 3
   },
   "file_extension": ".py",
   "mimetype": "text/x-python",
   "name": "python",
   "nbconvert_exporter": "python",
   "pygments_lexer": "ipython3",
   "version": "3.12.4"
  }
 },
 "nbformat": 4,
 "nbformat_minor": 5
}
