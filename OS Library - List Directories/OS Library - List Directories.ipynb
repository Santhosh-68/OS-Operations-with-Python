{
 "cells": [
  {
   "cell_type": "code",
   "execution_count": 3,
   "id": "2846738c-ad7b-4662-9912-8b521e5f0e38",
   "metadata": {},
   "outputs": [],
   "source": [
    "import os"
   ]
  },
  {
   "cell_type": "code",
   "execution_count": 5,
   "id": "c414d6b8-bbb7-40ac-a4a1-c94bf441940c",
   "metadata": {},
   "outputs": [
    {
     "data": {
      "text/plain": [
       "'C:\\\\Users\\\\Santh'"
      ]
     },
     "execution_count": 5,
     "metadata": {},
     "output_type": "execute_result"
    }
   ],
   "source": [
    "os.getcwd()"
   ]
  },
  {
   "cell_type": "code",
   "execution_count": 7,
   "id": "4d88a3c5-735a-42a4-8f73-351f81fe9516",
   "metadata": {},
   "outputs": [],
   "source": [
    "os.chdir('OneDrive')"
   ]
  },
  {
   "cell_type": "code",
   "execution_count": 9,
   "id": "49bbc3fa-43f2-4714-ae8c-6edceb1ac036",
   "metadata": {},
   "outputs": [
    {
     "data": {
      "text/plain": [
       "'C:\\\\Users\\\\Santh\\\\OneDrive'"
      ]
     },
     "execution_count": 9,
     "metadata": {},
     "output_type": "execute_result"
    }
   ],
   "source": [
    "os.getcwd()"
   ]
  },
  {
   "cell_type": "code",
   "execution_count": 35,
   "id": "abbd877a-8a66-4101-9ea6-32f6aa5ffae4",
   "metadata": {},
   "outputs": [
    {
     "name": "stdout",
     "output_type": "stream",
     "text": [
      "A\n",
      "B\n",
      "C\n",
      "D\n",
      "E\n",
      "F\n",
      "G\n"
     ]
    }
   ],
   "source": [
    "for i in os.listdir('DS'):\n",
    "    if i != '.ipynb_checkpoints':\n",
    "        print(i)"
   ]
  },
  {
   "cell_type": "code",
   "execution_count": 57,
   "id": "2d12d02e-344f-4476-944b-8600ceb6fc38",
   "metadata": {},
   "outputs": [],
   "source": [
    "!type NUL > fle.txt"
   ]
  },
  {
   "cell_type": "code",
   "execution_count": 59,
   "id": "7e823836-d563-4232-acbe-aa03f192d024",
   "metadata": {},
   "outputs": [
    {
     "name": "stdout",
     "output_type": "stream",
     "text": [
      " Volume in drive C is OS\n",
      " Volume Serial Number is F88D-7FF6\n",
      "\n",
      " Directory of C:\\Users\\Santh\\OneDrive\n",
      "\n",
      "24-02-2025  11:02    <DIR>          .\n",
      "24-02-2025  11:02    <DIR>          ..\n",
      "24-02-2025  11:02    <DIR>          .ipynb_checkpoints\n",
      "14-10-2023  13:52    <DIR>          AppData\n",
      "20-06-2024  17:23    <DIR>          Attachments\n",
      "14-10-2023  15:05    <DIR>          Creative Cloud Files\n",
      "15-02-2025  20:40    <DIR>          Documents\n",
      "24-02-2025  10:53    <DIR>          DS\n",
      "24-02-2025  11:02                 0 fle.txt\n",
      "24-02-2025  10:00             1,140 Personal Vault.lnk\n",
      "15-02-2025  20:40    <DIR>          Pictures\n",
      "               2 File(s)          1,140 bytes\n",
      "               9 Dir(s)  327,656,550,400 bytes free\n"
     ]
    }
   ],
   "source": [
    "!dir"
   ]
  },
  {
   "cell_type": "code",
   "execution_count": 61,
   "id": "41f15a5e-15e3-4931-a730-9f9d1e5694ca",
   "metadata": {},
   "outputs": [],
   "source": [
    "os.rename('fle.txt','file.txt')"
   ]
  },
  {
   "cell_type": "code",
   "execution_count": 63,
   "id": "688b0466-23df-4c76-b08f-9e8808114e65",
   "metadata": {},
   "outputs": [],
   "source": [
    "os.remove('file.txt')"
   ]
  },
  {
   "cell_type": "code",
   "execution_count": 67,
   "id": "773b6091-d99a-45e8-9bcc-b55ea7fd3c42",
   "metadata": {},
   "outputs": [],
   "source": [
    "if os.path.exists('DS/Z'):\n",
    "    print(\"Folder already exists\")\n",
    "else:\n",
    "    os.mkdir('DS/Z')"
   ]
  },
  {
   "cell_type": "code",
   "execution_count": 69,
   "id": "3eb3495d-a472-4f6b-8576-71538d55772e",
   "metadata": {},
   "outputs": [
    {
     "data": {
      "text/plain": [
       "4096"
      ]
     },
     "execution_count": 69,
     "metadata": {},
     "output_type": "execute_result"
    }
   ],
   "source": [
    "os.path.getsize('DS')"
   ]
  },
  {
   "cell_type": "code",
   "execution_count": null,
   "id": "f8e6a54b-b2f3-425c-a12a-ad01a1ff2c31",
   "metadata": {},
   "outputs": [],
   "source": []
  }
 ],
 "metadata": {
  "kernelspec": {
   "display_name": "Python 3 (ipykernel)",
   "language": "python",
   "name": "python3"
  },
  "language_info": {
   "codemirror_mode": {
    "name": "ipython",
    "version": 3
   },
   "file_extension": ".py",
   "mimetype": "text/x-python",
   "name": "python",
   "nbconvert_exporter": "python",
   "pygments_lexer": "ipython3",
   "version": "3.12.4"
  }
 },
 "nbformat": 4,
 "nbformat_minor": 5
}
