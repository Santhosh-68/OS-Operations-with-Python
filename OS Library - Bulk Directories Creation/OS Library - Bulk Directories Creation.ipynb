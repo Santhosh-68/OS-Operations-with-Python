{
 "cells": [
  {
   "cell_type": "code",
   "execution_count": 81,
   "id": "e0ce6f84-f2c8-4b98-9591-03be278d086d",
   "metadata": {},
   "outputs": [],
   "source": [
    "import os"
   ]
  },
  {
   "cell_type": "code",
   "execution_count": 85,
   "id": "4ce63eab-5d43-431d-9c4d-4889d62ac602",
   "metadata": {},
   "outputs": [],
   "source": [
    "n = 'Test'\n",
    "\n",
    "os.mkdir(n)\n",
    "\n",
    "for i in range(1000):\n",
    "    \n",
    "    name = n +'/'+ n +' '+ str(i+1)\n",
    "    os.mkdir(name)"
   ]
  },
  {
   "cell_type": "code",
   "execution_count": null,
   "id": "ed2965d0-c0fb-469f-b4cd-8355634b728b",
   "metadata": {},
   "outputs": [],
   "source": []
  }
 ],
 "metadata": {
  "kernelspec": {
   "display_name": "Python 3 (ipykernel)",
   "language": "python",
   "name": "python3"
  },
  "language_info": {
   "codemirror_mode": {
    "name": "ipython",
    "version": 3
   },
   "file_extension": ".py",
   "mimetype": "text/x-python",
   "name": "python",
   "nbconvert_exporter": "python",
   "pygments_lexer": "ipython3",
   "version": "3.12.4"
  }
 },
 "nbformat": 4,
 "nbformat_minor": 5
}
