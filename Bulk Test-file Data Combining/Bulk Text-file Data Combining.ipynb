{
 "cells": [
  {
   "cell_type": "code",
   "execution_count": 1,
   "id": "54a4a6ee-6f85-4b71-be3f-1dd678310892",
   "metadata": {},
   "outputs": [],
   "source": [
    "import os"
   ]
  },
  {
   "cell_type": "code",
   "execution_count": 3,
   "id": "723ab922-fa98-4b71-8b7c-323160f0f29a",
   "metadata": {},
   "outputs": [],
   "source": [
    "os.chdir('OneDrive')"
   ]
  },
  {
   "cell_type": "code",
   "execution_count": 5,
   "id": "4fba327f-eddd-473a-aef0-a5856b780e27",
   "metadata": {},
   "outputs": [
    {
     "data": {
      "text/plain": [
       "'C:\\\\Users\\\\Santh\\\\OneDrive'"
      ]
     },
     "execution_count": 5,
     "metadata": {},
     "output_type": "execute_result"
    }
   ],
   "source": [
    "os.getcwd()"
   ]
  },
  {
   "cell_type": "code",
   "execution_count": 7,
   "id": "becdb2da-7e6b-4277-9c7a-9d764ad70777",
   "metadata": {},
   "outputs": [],
   "source": [
    "files = os.listdir('Files')"
   ]
  },
  {
   "cell_type": "code",
   "execution_count": 9,
   "id": "089d3d05-f9bb-4dd1-8d2f-8c43227b4db5",
   "metadata": {},
   "outputs": [],
   "source": [
    "fd_write = open('Data.txt','a')\n",
    "\n",
    "for i in files:\n",
    "    if i != '.ipynb_checkpoints':\n",
    "\n",
    "        fd_read = open('Files/' +i, 'r')\n",
    "        fd_write.write(fd_read.read())\n",
    "        fd_write.write('\\n')\n",
    "        fd_read.close()\n",
    "\n",
    "fd_write.close()"
   ]
  },
  {
   "cell_type": "code",
   "execution_count": 11,
   "id": "e13ca219-b142-4eb7-a0be-c6d93491e754",
   "metadata": {},
   "outputs": [],
   "source": [
    "txt =''\n",
    "\n",
    "for i in files:\n",
    "    if i != '.ipynb_checkpoints':\n",
    "\n",
    "        fd_read = open('Files/' +i, 'r')\n",
    "        txt += fd_read.read() + '\\n'\n",
    "        fd_read.close()"
   ]
  },
  {
   "cell_type": "code",
   "execution_count": 13,
   "id": "896fc27e-771d-49bf-a96e-7f707b64ce73",
   "metadata": {},
   "outputs": [
    {
     "data": {
      "text/plain": [
       "str"
      ]
     },
     "execution_count": 13,
     "metadata": {},
     "output_type": "execute_result"
    }
   ],
   "source": [
    "type(txt)"
   ]
  },
  {
   "cell_type": "code",
   "execution_count": 15,
   "id": "175069f6-99fb-43f4-b948-145b6e222806",
   "metadata": {},
   "outputs": [],
   "source": [
    "fd_write = open('Data.txt','a')\n",
    "fd_write.write(txt)\n",
    "fd_write.close()"
   ]
  },
  {
   "cell_type": "code",
   "execution_count": null,
   "id": "fa5b271b-d08d-40f9-bd85-e6233d0f80d1",
   "metadata": {},
   "outputs": [],
   "source": []
  }
 ],
 "metadata": {
  "kernelspec": {
   "display_name": "Python 3 (ipykernel)",
   "language": "python",
   "name": "python3"
  },
  "language_info": {
   "codemirror_mode": {
    "name": "ipython",
    "version": 3
   },
   "file_extension": ".py",
   "mimetype": "text/x-python",
   "name": "python",
   "nbconvert_exporter": "python",
   "pygments_lexer": "ipython3",
   "version": "3.12.4"
  }
 },
 "nbformat": 4,
 "nbformat_minor": 5
}
