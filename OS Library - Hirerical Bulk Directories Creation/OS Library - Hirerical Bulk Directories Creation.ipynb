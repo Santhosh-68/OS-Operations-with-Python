{
 "cells": [
  {
   "cell_type": "code",
   "execution_count": 1,
   "id": "d3789e61-427f-453b-9467-4fd3d37e041f",
   "metadata": {},
   "outputs": [],
   "source": [
    "import os"
   ]
  },
  {
   "cell_type": "code",
   "execution_count": 9,
   "id": "5a65e1a7-d472-4849-a874-cd1dc2ef2c7b",
   "metadata": {},
   "outputs": [
    {
     "name": "stdout",
     "output_type": "stream",
     "text": [
      "31\n"
     ]
    }
   ],
   "source": [
    "master = 'Test'\n",
    "\n",
    "os.mkdir(master)\n",
    "\n",
    "n = 5\n",
    "m = 5\n",
    "\n",
    "for i in range(n):\n",
    "    name = master +'/'+ master +' '+ str(i+1)\n",
    "    os.mkdir(name)\n",
    "\n",
    "    for j in range(m):\n",
    "        name = master +'/'+ master +' '+str(i+1) +'/'+ master +' '+ str(j+1)\n",
    "        os.mkdir(name)\n",
    "\n",
    "print(n*m + n + 1)"
   ]
  },
  {
   "cell_type": "code",
   "execution_count": 11,
   "id": "21b50fbd-536a-4fd0-8ddb-1c7cecdb513f",
   "metadata": {},
   "outputs": [
    {
     "name": "stdout",
     "output_type": "stream",
     "text": [
      " Volume in drive C is OS\n",
      " Volume Serial Number is F88D-7FF6\n",
      "\n",
      " Directory of C:\\Users\\Santh\\OneDrive\n",
      "\n",
      "24-02-2025  11:59    <DIR>          .\n",
      "24-02-2025  11:56    <DIR>          ..\n",
      "24-02-2025  11:02    <DIR>          .ipynb_checkpoints\n",
      "14-10-2023  13:52    <DIR>          AppData\n",
      "20-06-2024  17:23    <DIR>          Attachments\n",
      "14-10-2023  15:05    <DIR>          Creative Cloud Files\n",
      "15-02-2025  20:40    <DIR>          Documents\n",
      "24-02-2025  10:00             1,140 Personal Vault.lnk\n",
      "15-02-2025  20:40    <DIR>          Pictures\n",
      "24-02-2025  11:59    <DIR>          Test\n",
      "               1 File(s)          1,140 bytes\n",
      "               9 Dir(s)  327,711,318,016 bytes free\n"
     ]
    }
   ],
   "source": [
    "!dir"
   ]
  },
  {
   "cell_type": "raw",
   "id": "691f54a9-468b-4e94-a188-e424bd1a2c4a",
   "metadata": {},
   "source": [
    "'''\n",
    "Test\n",
    "    ->Test 1\n",
    "        ->Test 1\n",
    "        ->Test 2\n",
    "        ->Test 3\n",
    "        ->Test 4\n",
    "        ->Test 5\n",
    "    ->Test 2\n",
    "        ->Test 1\n",
    "        ->Test 2\n",
    "        ->Test 3\n",
    "        ->Test 4\n",
    "        ->Test 5\n",
    "    ->Test 3\n",
    "        ->Test 1\n",
    "        ->Test 2\n",
    "        ->Test 3\n",
    "        ->Test 4\n",
    "        ->Test 5\n",
    "    ->Test 4\n",
    "        ->Test 1\n",
    "        ->Test 2\n",
    "        ->Test 3\n",
    "        ->Test 4\n",
    "        ->Test 5\n",
    "    ->Test 5\n",
    "        ->Test 1\n",
    "        ->Test 2\n",
    "        ->Test 3\n",
    "        ->Test 4\n",
    "        ->Test 5\n",
    "'''"
   ]
  },
  {
   "cell_type": "code",
   "execution_count": null,
   "id": "488551bd-b9b4-462f-adc3-b09607711893",
   "metadata": {},
   "outputs": [],
   "source": []
  }
 ],
 "metadata": {
  "kernelspec": {
   "display_name": "Python 3 (ipykernel)",
   "language": "python",
   "name": "python3"
  },
  "language_info": {
   "codemirror_mode": {
    "name": "ipython",
    "version": 3
   },
   "file_extension": ".py",
   "mimetype": "text/x-python",
   "name": "python",
   "nbconvert_exporter": "python",
   "pygments_lexer": "ipython3",
   "version": "3.12.4"
  }
 },
 "nbformat": 4,
 "nbformat_minor": 5
}
