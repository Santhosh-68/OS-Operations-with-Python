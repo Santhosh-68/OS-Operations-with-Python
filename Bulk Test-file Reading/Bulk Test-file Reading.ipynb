{
 "cells": [
  {
   "cell_type": "code",
   "execution_count": 1,
   "id": "dd2103b5-ffc4-4b92-90fa-5fc76f8e2b42",
   "metadata": {},
   "outputs": [],
   "source": [
    "import os"
   ]
  },
  {
   "cell_type": "code",
   "execution_count": 5,
   "id": "ff7f940b-e73c-4117-b368-0f1b46cd5477",
   "metadata": {},
   "outputs": [],
   "source": [
    "os.chdir('OneDrive')"
   ]
  },
  {
   "cell_type": "code",
   "execution_count": 7,
   "id": "58e9c4c9-2636-498c-9d1d-e0e102368b90",
   "metadata": {},
   "outputs": [
    {
     "data": {
      "text/plain": [
       "'C:\\\\Users\\\\Santh\\\\OneDrive'"
      ]
     },
     "execution_count": 7,
     "metadata": {},
     "output_type": "execute_result"
    }
   ],
   "source": [
    "os.getcwd()"
   ]
  },
  {
   "cell_type": "code",
   "execution_count": 15,
   "id": "0e2511d4-218d-413e-89b2-ca59bba2c4f0",
   "metadata": {},
   "outputs": [],
   "source": [
    "files = os.listdir('Files')"
   ]
  },
  {
   "cell_type": "code",
   "execution_count": 21,
   "id": "df7e5723-f873-4d72-a98a-6f16d90f062f",
   "metadata": {},
   "outputs": [
    {
     "name": "stdout",
     "output_type": "stream",
     "text": [
      "Files/File1 - Copy (2).txt This is file 1. \n",
      "\n",
      "Files/File1 - Copy (3).txt This is file 1. \n",
      "\n",
      "Files/File1 - Copy (4).txt This is file 1. \n",
      "\n",
      "Files/File1 - Copy (5).txt This is file 1. \n",
      "\n",
      "Files/File1 - Copy.txt This is file 1. \n",
      "\n",
      "Files/File1.txt This is file 1. \n",
      "\n",
      "Files/File2 - Copy (2).txt This is file 2. \n",
      "\n",
      "Files/File2 - Copy (3).txt This is file 2. \n",
      "\n",
      "Files/File2 - Copy (4).txt This is file 2. \n",
      "\n",
      "Files/File2 - Copy (5).txt This is file 2. \n",
      "\n",
      "Files/File2 - Copy.txt This is file 2. \n",
      "\n",
      "Files/File2.txt This is file 2. \n",
      "\n",
      "Files/File3 - Copy (2).txt This is file 3. \n",
      "\n",
      "Files/File3 - Copy (3).txt This is file 3. \n",
      "\n",
      "Files/File3 - Copy (4).txt This is file 3. \n",
      "\n",
      "Files/File3 - Copy (5).txt This is file 3. \n",
      "\n",
      "Files/File3 - Copy.txt This is file 3. \n",
      "\n",
      "Files/File3.txt This is file 3. \n",
      "\n",
      "Files/File4 - Copy (2).txt This is file 4. \n",
      "\n",
      "Files/File4 - Copy (3).txt This is file 4. \n",
      "\n",
      "Files/File4 - Copy (4).txt This is file 4. \n",
      "\n",
      "Files/File4 - Copy (5).txt This is file 4. \n",
      "\n",
      "Files/File4 - Copy.txt This is file 4. \n",
      "\n",
      "Files/File4.txt This is file 4. \n",
      "\n",
      "Files/File5 - Copy (2).txt This is file 5. \n",
      "\n",
      "Files/File5 - Copy (3).txt This is file 5. \n",
      "\n",
      "Files/File5 - Copy (4).txt This is file 5. \n",
      "\n",
      "Files/File5 - Copy (5).txt This is file 5. \n",
      "\n",
      "Files/File5 - Copy.txt This is file 5. \n",
      "\n",
      "Files/File5.txt This is file 5. \n",
      "\n"
     ]
    }
   ],
   "source": [
    "for i in files:\n",
    "    if i != '.ipynb_checkpoints':\n",
    "\n",
    "        fd = open('Files/' +i, 'r')\n",
    "        print('Files/' +i, fd.read(),'\\n')\n",
    "        fd.close()"
   ]
  },
  {
   "cell_type": "code",
   "execution_count": null,
   "id": "be505a68-0c06-485a-878a-2e924aaf7f7d",
   "metadata": {},
   "outputs": [],
   "source": []
  }
 ],
 "metadata": {
  "kernelspec": {
   "display_name": "Python 3 (ipykernel)",
   "language": "python",
   "name": "python3"
  },
  "language_info": {
   "codemirror_mode": {
    "name": "ipython",
    "version": 3
   },
   "file_extension": ".py",
   "mimetype": "text/x-python",
   "name": "python",
   "nbconvert_exporter": "python",
   "pygments_lexer": "ipython3",
   "version": "3.12.4"
  }
 },
 "nbformat": 4,
 "nbformat_minor": 5
}
